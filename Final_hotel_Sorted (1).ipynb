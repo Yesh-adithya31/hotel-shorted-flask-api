{
  "cells": [
    {
      "cell_type": "markdown",
      "source": [
        "# 1. Import Libraies:\n",
        "* ## Here you import the necessary libraries: `pandas` for data handling, `train_test_split` to split the data into training and testing sets, and `RandomForestRegressor` to build the regression models and `OneHotEncoder` for encoding categorical features."
      ],
      "metadata": {
        "id": "ULQDrPIMeIyC"
      }
    },
    {
      "cell_type": "code",
      "source": [
        "import pandas as pd\n",
        "from sklearn.model_selection import train_test_split\n",
        "from sklearn.ensemble import RandomForestRegressor\n",
        "from sklearn.preprocessing import OneHotEncoder"
      ],
      "metadata": {
        "id": "p6Yb7ZCPeIa4"
      },
      "execution_count": null,
      "outputs": []
    },
    {
      "cell_type": "markdown",
      "source": [
        "# 2. Load the Dataset:\n",
        "\n",
        "* ## You load the dataset from a CSV file named `'hotelData.csv'` into a Pandas DataFrame called `data`."
      ],
      "metadata": {
        "id": "y1FS233NepnK"
      }
    },
    {
      "cell_type": "code",
      "source": [
        "# Load the dataset\n",
        "data = pd.read_csv(\"hotelData.csv\")"
      ],
      "metadata": {
        "id": "mmoSUAaoeq0s"
      },
      "execution_count": null,
      "outputs": []
    },
    {
      "cell_type": "markdown",
      "source": [
        "# 3. Data Preprocessing\n",
        ">## Encode Categorical Features\n",
        "* ## You create an instance of `OneHotEncoder`, specifying that you want to encode categorical features while ignoring unknown categories. You then use this encoder to transform the selected categorical columns and create a new DataFrame `encoded_cities_df` containing the encoded features.\n"
      ],
      "metadata": {
        "id": "oqV7wGJ6eyTJ"
      }
    },
    {
      "cell_type": "code",
      "source": [
        "# Data Preprocessing\n",
        "# Handle missing values, encode categorical features using one-hot encoding\n",
        "encoder = OneHotEncoder(sparse=False, handle_unknown=\"ignore\")\n",
        "encoded_cities = encoder.fit_transform(data[[\"City\", \"Sub City\",\"Image\", \"Description\", \"Restaurant name\", \"Most reviewed foods\"]])\n",
        "encoded_cities_df = pd.DataFrame(encoded_cities, columns=encoder.get_feature_names_out([\"City\", \"Sub City\",\"Image\", \"Description\", \"Restaurant name\", \"Most reviewed foods\"]))"
      ],
      "metadata": {
        "id": "TSr6i1iRfLzS"
      },
      "execution_count": null,
      "outputs": []
    },
    {
      "cell_type": "markdown",
      "source": [
        "># Combine encded Cities\n",
        "* ## You define `selected_columns` as a list containing the column name `\"Uniq ID\"`. Then, you concatenate the `encoded_cities_df` with the selected columns from the original `data` DataFrame to create the `features` DataFrame. You also extract the `target` columns for prediction into the `targets` DataFrame."
      ],
      "metadata": {
        "id": "9fqfoD4SfdvN"
      }
    },
    {
      "cell_type": "code",
      "source": [
        "# Combine encoded cities with other features\n",
        "selected_columns = [\"Uniq ID\"]\n",
        "features = pd.concat([encoded_cities_df,data[selected_columns]], axis=1)\n",
        "targets = data[[\"Food Rate\", \"Staff Rate\", \"Environment Rate\"]]"
      ],
      "metadata": {
        "id": "IMsjsCu7f_i0"
      },
      "execution_count": null,
      "outputs": []
    },
    {
      "cell_type": "markdown",
      "source": [
        "# 4. Split Data into Features and Targets:\n",
        "\n",
        "* ## using the `train_test_split` function from the `sklearn.model_selection` module to split your data into training and testing sets. This function is commonly used in machine learning to divide a dataset into two parts: one for training a model and the other for evaluating its performance.\n",
        "\n",
        ">## Here's a breakdown of the code:\n",
        "\n",
        ">* ## `features`: This is the DataFrame containing the features that your machine learning models will use for prediction.\n",
        "\n",
        ">* ## `targets`: This is the DataFrame containing the target variables you want to predict. In your case, the target variables are `\"Food Rate\"`, `\"Staff Rate\"`, and `\"Environment Rate\"`.\n",
        "\n",
        ">* ## `test_size`: This parameter determines the proportion of the data that will be allocated to the testing set. Here, it's set to `0.2`, which means that `20%` of the data will be used for testing, and the remaining `80%` will be used for `training`.\n",
        "\n",
        ">* ## `random_state`: This parameter sets the random seed for reproducibility. By setting it to a specific value (e.g., `42`), you ensure that the random split of data will be the same every time you run your code. This is useful for consistent and repeatable results during development and testing.\n",
        "\n",
        ">* ## After executing this line of code, you'll have the following variables:\n",
        "\n",
        ">* ## `X_train`: This DataFrame contains the features used for training your machine learning models.\n",
        "\n",
        ">* ## `X_test`: This DataFrame contains the features used for evaluating the performance of your models.\n",
        "\n",
        ">* ## `y_train`: This DataFrame contains the target variables corresponding to the training features. For your case, these are the target `\"Food Rate\"`, `\"Staff Rate\"`, and `\"Environment Rate\"` values.\n",
        "\n",
        ">* ## `y_test`: This DataFrame contains the target variables corresponding to the testing features.\n",
        "\n",
        ">* ## With these variables, you can proceed to train your models on `X_train` and `y_train`, make predictions on `X_test`, and evaluate your models' performance using `y_test`."
      ],
      "metadata": {
        "id": "9uNvf2FZgKaW"
      }
    },
    {
      "cell_type": "code",
      "source": [
        "# Split the data into train and test sets\n",
        "X_train, X_test, y_train, y_test = train_test_split(features, targets, test_size=0.2, random_state=42)"
      ],
      "metadata": {
        "id": "4OSmOEgIhfuA"
      },
      "execution_count": null,
      "outputs": []
    },
    {
      "cell_type": "markdown",
      "source": [
        "# 6. Train the Models:\n",
        "\n",
        "* ## You create separate instances of `RandomForestRegressor` for each target variable and train them on the training data.\n",
        "\n",
        "* ## `model_food = RandomForestRegressor()`:\n",
        "### Here, you create an instance of the `RandomForestRegressor` class and assign it to the variable model_food. This instance represents your machine learning model that will predict the \"Food Rate\".\n",
        "\n",
        "* ## `model_food.fit(X_train, y_train[\"Food Rate\"])`:\n",
        "### The `.fit()` method is used to train the machine learning model. You provide two arguments:\n",
        "### `X_train`: This is the feature data for training. It's a DataFrame that contains all the features for the training set.\n",
        "### `y_train[\"Food Rate\"]`: This is the target data for training, specifically the \"Food Rate\" values for the training set. It's a Series that contains the actual \"Food Rate\" values corresponding to the training data.\n",
        "* ## These two lines together initialize the `RandomForestRegressor` model for predicting \"Food Rate\" and then train it using the provided training features `(X_train)` and corresponding target values `(y_train[\"Food Rate\"])`.\n",
        "\n",
        "* ## The same process is repeated for the `model_staff` and `model_env`:"
      ],
      "metadata": {
        "id": "9HWxcf__hjCS"
      }
    },
    {
      "cell_type": "code",
      "source": [
        "# Train separate models for each target variable\n",
        "food_model = RandomForestRegressor()\n",
        "food_model.fit(X_train, y_train[\"Food Rate\"])\n",
        "\n",
        "staff_model = RandomForestRegressor()\n",
        "staff_model.fit(X_train, y_train[\"Staff Rate\"])\n",
        "\n",
        "env_model = RandomForestRegressor()\n",
        "env_model.fit(X_train, y_train[\"Environment Rate\"])"
      ],
      "metadata": {
        "id": "IX_kp1RChjSD"
      },
      "execution_count": null,
      "outputs": []
    },
    {
      "cell_type": "markdown",
      "source": [
        "# 7. Make Predictions:\n",
        "\n",
        "* ## `model_food`: This is the trained `RandomForestRegressor` model for predicting food rates.\n",
        "* ## `.predict(X_test)`: This method takes the test features `X_test` as input and returns predicted values for the target variable `(food rate)` based on the learned model.\n",
        "* ## `food_predictions`: This variable stores the predicted food rates for the test data.\n",
        "* # Similarly, for the staff and environment rate predictions:"
      ],
      "metadata": {
        "id": "PD7Hkdqoh6q-"
      }
    },
    {
      "cell_type": "code",
      "source": [
        "# Predict review values\n",
        "food_predictions = food_model.predict(X_test)\n",
        "staff_predictions = staff_model.predict(X_test)\n",
        "env_predictions = env_model.predict(X_test)"
      ],
      "metadata": {
        "id": "crEODAzEh65H"
      },
      "execution_count": null,
      "outputs": []
    },
    {
      "cell_type": "markdown",
      "source": [
        "# 8. Combining the predictions with additional information from the original data\n",
        "\n",
        "* ## In this code, you are creating a new DataFrame named `results` that combines the predictions with additional information from the original `data` DataFrame. Let's go through each column step by step:\n",
        "\n",
        " >## - `\"Uniq_ID\": data.loc[X_test.index, \"Uniq ID\"]`\n",
        "\n",
        " >## This column represents the unique ID for each observation in the testing set. `data.loc[X_test.index, \"Uniq ID\"]` extracts the `\"Uniq ID\"` values corresponding to the indices of the `X_test` DataFrame (which holds the testing set features).\n",
        "  >## - `\"Food_Prediction\": food_predictions`\n",
        "\n",
        " >## This column contains the predictions made by the food prediction model for each observation in the testing set.\n",
        " >## - `\"Staff_Prediction\": staff_predictions`\n",
        "\n",
        " >## This column contains the predictions made by the staff prediction model for each observation in the testing set.\n",
        " >## - `\"Environment_Prediction\": env_predictions`\n",
        "\n",
        " >## This column contains the predictions made by the environment prediction model for each observation in the testing set.\n",
        " >## \"City\": data.loc[X_test.index, \"City\"]\n",
        "\n",
        " >## This column represents the city for each observation in the testing set.\n",
        "data.loc[X_test.index, \"City\"] extracts the \"City\" values corresponding to the indices of the X_test DataFrame.\n",
        " >## \"Image\": data.loc[X_test.index, \"Image\"]\n",
        "\n",
        " >## This column represents the image information for each observation in the testing set. `data.loc[X_test.index, \"Image\"]` extracts the \"Image\" values corresponding to the indices of the `X_test` DataFrame.\n",
        " >## `\"Description\": data.loc[X_test.index, \"Description\"]`\n",
        "\n",
        " >## This column represents the description for each observation in the testing set. `data.loc[X_test.index, \"Description\"]` extracts the \"Description\" values corresponding to the indices of the `X_test` DataFrame.\n",
        " >## `\"Restaurant_name\": data.loc[X_test.index, \"Restaurant name\"]`\n",
        "\n",
        " >## This column represents the restaurant name for each observation in the testing set.`data.loc[X_test.index, \"Restaurant name\"]` extracts the `\"Restaurant name\"` values corresponding to the indices of the `X_test` DataFrame.\n",
        " >## `\"Most_reviewed_foods\": data.loc[X_test.index, \"Most reviewed foods\"]`\n",
        "\n",
        " >## This column represents the most reviewed foods for each observation in the testing set. `data.loc[X_test.index, \"Most reviewed foods\"]` extracts the `\"Most reviewed foods\"` values corresponding to the indices of the `X_test` DataFrame.\n",
        " >## The resulting results DataFrame combines the extracted values to provide a comprehensive view of the predictions and relevant information for each observation in the testing set."
      ],
      "metadata": {
        "id": "QvD7mXOgiJyI"
      }
    },
    {
      "cell_type": "code",
      "execution_count": null,
      "metadata": {
        "id": "dt34GfvAddoD",
        "outputId": "68cdd30c-b9c4-4038-f824-8d4464d57f9b"
      },
      "outputs": [
        {
          "name": "stdout",
          "output_type": "stream",
          "text": [
            "     Uniq_ID  Food_Prediction  Staff_Prediction  Environment_Prediction  \\\n",
            "521      522            3.754             3.688                   4.070   \n",
            "737      738            3.854             3.694                   3.759   \n",
            "740      741            4.050             3.585                   3.950   \n",
            "660      661            3.756             3.238                   3.688   \n",
            "411      412            4.166             3.573                   3.982   \n",
            "..       ...              ...               ...                     ...   \n",
            "408      409            3.968             3.568                   3.874   \n",
            "332      333            3.737             3.177                   3.287   \n",
            "208      209            3.855             3.181                   3.458   \n",
            "613      614            3.881             3.591                   3.676   \n",
            "78        79            3.950             3.576                   3.703   \n",
            "\n",
            "            City                                              Image  \\\n",
            "521   Kurunegala  https://q-xx.bstatic.com/xdata/images/hotel/ma...   \n",
            "737   Hambantota  https://nerdnomads.com/wp-content/uploads/2017...   \n",
            "740   Hambantota  https://www.topasiatour.com/pic/sri-lanka/city...   \n",
            "660    Ratnapura  https://planeterra.org/wp-content/uploads/2020...   \n",
            "411       Mannar  https://q-xx.bstatic.com/xdata/images/hotel/ma...   \n",
            "..           ...                                                ...   \n",
            "408       Mannar  https://aff.bstatic.com/images/hotel/max500/87...   \n",
            "332  Polonnaruwa  https://media-cdn.tripadvisor.com/media/photo-...   \n",
            "208   Batticaloa  https://media-cdn.tripadvisor.com/media/photo-...   \n",
            "613      Kegalle  https://nerdnomads.com/wp-content/uploads/2017...   \n",
            "78        Matale  https://media-cdn.tripadvisor.com/media/photo-...   \n",
            "\n",
            "                                           Description  \\\n",
            "521  Sri Lanka's restaurants offer diverse flavors ...   \n",
            "737  Sri Lanka's restaurants offer diverse flavors ...   \n",
            "740  Sri Lanka's restaurants offer diverse flavors ...   \n",
            "660  Sri Lanka's restaurants offer diverse flavors ...   \n",
            "411  Sri Lanka's restaurants offer diverse flavors ...   \n",
            "..                                                 ...   \n",
            "408  Sri Lanka's restaurants offer diverse flavors ...   \n",
            "332  Sri Lanka's restaurants offer diverse flavors ...   \n",
            "208  Sri Lanka's restaurants offer diverse flavors ...   \n",
            "613  Sri Lanka's restaurants offer diverse flavors ...   \n",
            "78   Sri Lanka's restaurants offer diverse flavors ...   \n",
            "\n",
            "              Restaurant_name   Most_reviewed_foods  \n",
            "521          Windloft Retreat        Vegetable Roti  \n",
            "737       Misty Mornings Cafe     Fish Stuffed Roti  \n",
            "740           Hangura Heights  Ceylonese Pork Roast  \n",
            "660  Mangala Lodge Restaurant       Fish Ball Curry  \n",
            "411            Priyangi Hills               Biryani  \n",
            "..                        ...                   ...  \n",
            "408               Dine N Rest           Egg Hoppers  \n",
            "332             Ambalama Kele          Fish Cutlets  \n",
            "208          Rithu Restaurant                 Pittu  \n",
            "613         Walapane Whispers         Chicken Curry  \n",
            "78        Rattota Spice Trail          Seeni Sambol  \n",
            "\n",
            "[200 rows x 9 columns]\n"
          ]
        }
      ],
      "source": [
        "# Combine predictions and original data\n",
        "results = pd.DataFrame({\n",
        "    \"Uniq_ID\": data.loc[X_test.index, \"Uniq ID\"],\n",
        "    \"Food_Prediction\": food_predictions,\n",
        "    \"Staff_Prediction\": staff_predictions,\n",
        "    \"Environment_Prediction\": env_predictions,\n",
        "    # Other relevant columns from your dataset\n",
        "    \"City\": data.loc[X_test.index, \"City\"],\n",
        "    \"Image\": data.loc[X_test.index, \"Image\"],\n",
        "    \"Description\": data.loc[X_test.index, \"Description\"],\n",
        "    \"Restaurant_name\": data.loc[X_test.index, \"Restaurant name\"],\n",
        "    \"Most_reviewed_foods\": data.loc[X_test.index, \"Most reviewed foods\"]\n",
        "})\n",
        "\n",
        "# Display the results\n",
        "print(results)"
      ]
    },
    {
      "cell_type": "markdown",
      "source": [
        "# 9. Save Results to a .pkl File:\n",
        "\n",
        "* ## You save the sorted results DataFrame to a pickle file named `'final_sorted_results.h5'`."
      ],
      "metadata": {
        "id": "NyPFIynJkWjI"
      }
    },
    {
      "cell_type": "code",
      "source": [
        "# Save the results to a .pkl file\n",
        "results.to_pickle('final_sorted_results.h5')"
      ],
      "metadata": {
        "id": "UXLH-f1mkXQG"
      },
      "execution_count": null,
      "outputs": []
    }
  ],
  "metadata": {
    "kernelspec": {
      "display_name": "Python 3",
      "language": "python",
      "name": "python3"
    },
    "language_info": {
      "codemirror_mode": {
        "name": "ipython",
        "version": 3
      },
      "file_extension": ".py",
      "mimetype": "text/x-python",
      "name": "python",
      "nbconvert_exporter": "python",
      "pygments_lexer": "ipython3",
      "version": "3.9.6"
    },
    "orig_nbformat": 4,
    "colab": {
      "provenance": []
    }
  },
  "nbformat": 4,
  "nbformat_minor": 0
}